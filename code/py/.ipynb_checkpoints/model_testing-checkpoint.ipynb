{
 "cells": [
  {
   "cell_type": "code",
   "execution_count": 1,
   "metadata": {},
   "outputs": [],
   "source": [
    "#imports base\n",
    "import pandas as pd\n",
    "import numpy as np\n",
    "import matplotlib.pyplot as plt\n",
    "import time\n",
    "import sys\n",
    "import seaborn as sns\n",
    "import warnings\n",
    "from src.utils import *\n",
    "import random\n",
    "\n",
    "#sklearn utils\n",
    "from sklearn import preprocessing\n",
    "from sklearn.model_selection import train_test_split\n",
    "from sklearn.metrics import mean_absolute_error\n",
    "\n",
    "#models\n",
    "from sklearn.cluster import SpectralClustering\n",
    "#from catboost import CatBoostRegressor\n",
    "from sklearn.linear_model import LinearRegression\n",
    "#from pyearth import Earth\n",
    "#from lightgbm import LGBMRegressor"
   ]
  },
  {
   "cell_type": "code",
   "execution_count": 2,
   "metadata": {},
   "outputs": [],
   "source": [
    "#configuracion\n",
    "sns.set(color_codes=True)\n",
    "sns.set_palette(sns.color_palette(\"PuBuGn_d\"))\n",
    "warnings.filterwarnings('ignore')\n",
    "sys.path.append('/home/ubuntu/fastai/fastai/')\n",
    "%matplotlib inline\n",
    "\n",
    "#pathdata\n",
    "PATH_DATA = '/home/ubuntu/fastai/data/'\n",
    "PATH      = '/home/ubuntu/fastai/cajamar2018/'"
   ]
  },
  {
   "cell_type": "code",
   "execution_count": 3,
   "metadata": {},
   "outputs": [],
   "source": [
    "import pickle\n",
    "df_mod = pickle.load(open('dataframe_processed.pkl','rb'))\n",
    "numerical_vars, categorical_vars, TARGET = pickle.load(open('vars.pkl','rb'))"
   ]
  },
  {
   "cell_type": "markdown",
   "metadata": {},
   "source": [
    "----\n",
    "----\n",
    "# Enfoque deep"
   ]
  },
  {
   "cell_type": "code",
   "execution_count": 4,
   "metadata": {},
   "outputs": [],
   "source": [
    "import torch\n",
    "import fastai\n",
    "\n",
    "from fastai.structured import *\n",
    "from fastai.column_data import *\n",
    "\n",
    "\n",
    "def exp_mae(y_pred, targ):\n",
    "    return np.average(np.abs( np.exp(y_pred) -  np.exp(targ)), axis=0)\n",
    "\n",
    "\n",
    "def exp_rmspe(y_pred, targ):\n",
    "    targ = np.exp(targ)\n",
    "    pct_var = (targ -  np.exp(y_pred))/targ\n",
    "    return math.sqrt((pct_var**2).mean())"
   ]
  },
  {
   "cell_type": "code",
   "execution_count": 5,
   "metadata": {},
   "outputs": [],
   "source": [
    "df_deep = df_mod.drop(['ID_Customer'], axis=1)"
   ]
  },
  {
   "cell_type": "code",
   "execution_count": 6,
   "metadata": {},
   "outputs": [],
   "source": [
    "from sklearn import preprocessing\n",
    "le = preprocessing.LabelEncoder()"
   ]
  },
  {
   "cell_type": "code",
   "execution_count": 7,
   "metadata": {},
   "outputs": [],
   "source": [
    "#NECESITARÍAMOS PODER VOLVER AL VALOR DE CADA CATEGORÍA\n",
    "df_deep[categorical_vars] = df_deep[categorical_vars].apply(lambda x: le.fit_transform(x))"
   ]
  },
  {
   "cell_type": "code",
   "execution_count": 8,
   "metadata": {},
   "outputs": [],
   "source": [
    "for v in categorical_vars: df_deep[v] = df_deep[v].astype('category').cat.as_ordered()\n",
    "for v in numerical_vars: df_deep[v] = df_deep[v].astype('float32')"
   ]
  },
  {
   "cell_type": "code",
   "execution_count": 9,
   "metadata": {},
   "outputs": [],
   "source": [
    "X_full, y_full, nas, mapper = proc_df(df_deep, TARGET, do_scale=True)"
   ]
  },
  {
   "cell_type": "code",
   "execution_count": 10,
   "metadata": {},
   "outputs": [],
   "source": [
    "max_y = np.max(y_full)\n",
    "y_range = (0, max_y*1.2)"
   ]
  },
  {
   "cell_type": "code",
   "execution_count": 11,
   "metadata": {},
   "outputs": [],
   "source": [
    "X_train, X_val, y_train, y_val   = train_test_split(X_full, y_full, test_size=0.10, random_state=42)\n",
    "#X_train, X_test, y_train, y_test = train_test_split(X_train, y_train, test_size=0.20, random_state=42)"
   ]
  },
  {
   "cell_type": "code",
   "execution_count": 12,
   "metadata": {},
   "outputs": [],
   "source": [
    "samp_size   = X_train.shape[0]\n",
    "train_ratio = 0.8\n",
    "train_size  = int(samp_size * train_ratio); train_size\n",
    "test_idx    = random.sample(range(0, samp_size), train_size)"
   ]
  },
  {
   "cell_type": "code",
   "execution_count": 13,
   "metadata": {},
   "outputs": [],
   "source": [
    "cat_sz = [(c, len(df_mod[c].cat.categories)+1) for c in categorical_vars]\n",
    "#cat_sz"
   ]
  },
  {
   "cell_type": "code",
   "execution_count": 19,
   "metadata": {},
   "outputs": [],
   "source": [
    "emb_szs = [(c, min(52, (c+1)//2)) for _,c in cat_sz]\n",
    "#emb_szs"
   ]
  },
  {
   "cell_type": "code",
   "execution_count": 20,
   "metadata": {},
   "outputs": [],
   "source": [
    "md = ColumnarModelData.from_data_frame(PATH, test_idx, X_train, y_train, cat_flds=categorical_vars, bs=128, test_df=X_val)"
   ]
  },
  {
   "cell_type": "code",
   "execution_count": 16,
   "metadata": {},
   "outputs": [],
   "source": [
    "m = md.get_learner(emb_szs, len(X_full.columns)-len(categorical_vars),\n",
    "                   0.05, 1, [800,500], [0.001,0.01], y_range=y_range)"
   ]
  },
  {
   "cell_type": "code",
   "execution_count": 17,
   "metadata": {},
   "outputs": [
    {
     "data": {
      "application/vnd.jupyter.widget-view+json": {
       "model_id": "41eace03a08a4236a10413aed823e22c",
       "version_major": 2,
       "version_minor": 0
      },
      "text/html": [
       "<p>Failed to display Jupyter Widget of type <code>HBox</code>.</p>\n",
       "<p>\n",
       "  If you're reading this message in the Jupyter Notebook or JupyterLab Notebook, it may mean\n",
       "  that the widgets JavaScript is still loading. If this message persists, it\n",
       "  likely means that the widgets JavaScript library is either not installed or\n",
       "  not enabled. See the <a href=\"https://ipywidgets.readthedocs.io/en/stable/user_install.html\">Jupyter\n",
       "  Widgets Documentation</a> for setup instructions.\n",
       "</p>\n",
       "<p>\n",
       "  If you're reading this message in another frontend (for example, a static\n",
       "  rendering on GitHub or <a href=\"https://nbviewer.jupyter.org/\">NBViewer</a>),\n",
       "  it may mean that your frontend doesn't currently support widgets.\n",
       "</p>\n"
      ],
      "text/plain": [
       "HBox(children=(IntProgress(value=0, description='Epoch', max=1), HTML(value='')))"
      ]
     },
     "metadata": {},
     "output_type": "display_data"
    },
    {
     "name": "stdout",
     "output_type": "stream",
     "text": [
      "epoch      trn_loss   val_loss   exp_mae                     \n",
      "    0      0.212436   0.186022   15792.230469\n",
      "\n"
     ]
    },
    {
     "data": {
      "text/plain": [
       "[0.18602225, array([ 15792.23047], dtype=float32)]"
      ]
     },
     "execution_count": 17,
     "metadata": {},
     "output_type": "execute_result"
    }
   ],
   "source": [
    "m.fit(1e-3, 1, metrics=[exp_mae])"
   ]
  },
  {
   "cell_type": "code",
   "execution_count": 21,
   "metadata": {},
   "outputs": [
    {
     "data": {
      "application/vnd.jupyter.widget-view+json": {
       "model_id": "9ebe193fa5da41468b571539ecda1490",
       "version_major": 2,
       "version_minor": 0
      },
      "text/html": [
       "<p>Failed to display Jupyter Widget of type <code>HBox</code>.</p>\n",
       "<p>\n",
       "  If you're reading this message in the Jupyter Notebook or JupyterLab Notebook, it may mean\n",
       "  that the widgets JavaScript is still loading. If this message persists, it\n",
       "  likely means that the widgets JavaScript library is either not installed or\n",
       "  not enabled. See the <a href=\"https://ipywidgets.readthedocs.io/en/stable/user_install.html\">Jupyter\n",
       "  Widgets Documentation</a> for setup instructions.\n",
       "</p>\n",
       "<p>\n",
       "  If you're reading this message in another frontend (for example, a static\n",
       "  rendering on GitHub or <a href=\"https://nbviewer.jupyter.org/\">NBViewer</a>),\n",
       "  it may mean that your frontend doesn't currently support widgets.\n",
       "</p>\n"
      ],
      "text/plain": [
       "HBox(children=(IntProgress(value=0, description='Epoch', max=15), HTML(value='')))"
      ]
     },
     "metadata": {},
     "output_type": "display_data"
    },
    {
     "name": "stdout",
     "output_type": "stream",
     "text": [
      "epoch      trn_loss   val_loss   exp_mae                     \n",
      "    0      0.171189   0.15784    5499.587891\n",
      "    1      0.151303   0.139093   5216.050781                 \n",
      "    2      0.141215   0.134867   4889.302246                 \n",
      "    3      0.13384    0.134091   5053.853516                 \n",
      "    4      0.139899   0.134684   4977.018555                 \n",
      "    5      0.142031   0.168765   4980.864258                 \n",
      "    6      0.137381   0.130279   4779.249512                 \n",
      "    7      0.123502   0.134947   4947.827637                 \n",
      "    8      0.124753   0.126411   4715.320312                 \n",
      "    9      0.118734   0.129902   5144.782227                 \n",
      "    10     0.119114   0.140458   5379.765625                 \n",
      "    11     0.116633   0.129342   4897.783203                 \n",
      "    12     0.1145     0.131116   4949.821289                 \n",
      "    13     0.109354   0.134585   4934.425781                 \n",
      "    14     0.108597   0.129524   4856.37793                   \n",
      "\n"
     ]
    },
    {
     "data": {
      "text/plain": [
       "[0.12952408, array([ 4856.37793], dtype=float32)]"
      ]
     },
     "execution_count": 21,
     "metadata": {},
     "output_type": "execute_result"
    }
   ],
   "source": [
    "m = md.get_learner(emb_szs, len(X_full.columns)-len(categorical_vars),\n",
    "                   0.05, 1, [800, 800, 500], [0.01, 0.025, 0.05], y_range=y_range)\n",
    "m.fit(1e-3, 15, metrics=[exp_mae])"
   ]
  },
  {
   "cell_type": "code",
   "execution_count": 23,
   "metadata": {},
   "outputs": [],
   "source": [
    "dl_preds = m.predict(is_test=True)"
   ]
  },
  {
   "cell_type": "code",
   "execution_count": 24,
   "metadata": {},
   "outputs": [
    {
     "name": "stdout",
     "output_type": "stream",
     "text": [
      "dl:  4792.02\n"
     ]
    },
    {
     "data": {
      "text/plain": [
       "<matplotlib.axes._subplots.AxesSubplot at 0x7f14b60bb2b0>"
      ]
     },
     "execution_count": 24,
     "metadata": {},
     "output_type": "execute_result"
    },
    {
     "data": {
      "image/png": "[encoded data removed]",
      "text/plain": [
       "<matplotlib.figure.Figure at 0x7f14b605c9b0>"
      ]
     },
     "metadata": {},
     "output_type": "display_data"
    }
   ],
   "source": [
    "print('dl: ', round(mean_absolute_error(np.exp(y_val), np.exp(dl_preds)), 3))\n",
    "sns.distplot(dl_preds)"
   ]
  },
  {
   "cell_type": "markdown",
   "metadata": {},
   "source": [
    "----\n",
    "----\n",
    "Enfoque tradicional"
   ]
  },
  {
   "cell_type": "code",
   "execution_count": null,
   "metadata": {},
   "outputs": [],
   "source": [
    "df_dummies = pd.get_dummies(df_mod, columns=categorical_vars)"
   ]
  },
  {
   "cell_type": "code",
   "execution_count": null,
   "metadata": {},
   "outputs": [],
   "source": [
    "X_full = df_dummies.drop(['ID_Customer', TARGET], axis=1)\n",
    "y_full = df_dummies[TARGET]"
   ]
  },
  {
   "cell_type": "code",
   "execution_count": null,
   "metadata": {},
   "outputs": [],
   "source": [
    "X_train, X_test, y_train, y_test = train_test_split(X_full, y_full, test_size=0.30, random_state=42)\n",
    "X_test, X_val, y_test, y_val = train_test_split(X_test, y_test, test_size=0.33, random_state=42)"
   ]
  },
  {
   "cell_type": "code",
   "execution_count": null,
   "metadata": {},
   "outputs": [],
   "source": [
    "catboost = CatBoostRegressor(learning_rate=0.1, depth=10, loss_function='RMSE', l2_leaf_reg=20, od_pval = 0.01)\n",
    "catboost = catboost.fit(X_train, y_train, eval_set=(X_test, y_test))\n",
    "catboots_preds = catboost.predict(X_val)"
   ]
  },
  {
   "cell_type": "code",
   "execution_count": null,
   "metadata": {},
   "outputs": [],
   "source": [
    "lm = LinearRegression(normalize=True)\n",
    "lm = lm.fit(X_train, y_train)\n",
    "lm_preds = lm.predict(X_val)"
   ]
  },
  {
   "cell_type": "code",
   "execution_count": null,
   "metadata": {},
   "outputs": [],
   "source": [
    "#print('Catboost: ', round(mean_absolute_error(np.exp(y_val),np.exp(catboots_preds)), 3))\n",
    "print('lm: ', round(mean_absolute_error(np.exp(y_val), np.exp(lm_preds)), 3))\n",
    "#print('earth: ', round(mean_absolute_error(y_test, earth_preds), 3))"
   ]
  },
  {
   "cell_type": "code",
   "execution_count": null,
   "metadata": {},
   "outputs": [],
   "source": [
    "#diagrama de densidada del poder adquisitivo\n",
    "sns.distplot(df_mod[TARGET], color='#009999')"
   ]
  },
  {
   "cell_type": "code",
   "execution_count": null,
   "metadata": {},
   "outputs": [],
   "source": [
    "sns.distplot(lm_preds, color='#009999')"
   ]
  },
  {
   "cell_type": "code",
   "execution_count": null,
   "metadata": {},
   "outputs": [],
   "source": [
    "sns.distplot(catboots_preds)"
   ]
  },
  {
   "cell_type": "code",
   "execution_count": null,
   "metadata": {},
   "outputs": [],
   "source": []
  },
  {
   "cell_type": "code",
   "execution_count": null,
   "metadata": {},
   "outputs": [],
   "source": []
  },
  {
   "cell_type": "code",
   "execution_count": null,
   "metadata": {},
   "outputs": [],
   "source": []
  }
 ],
 "metadata": {
  "kernelspec": {
   "display_name": "Python 3",
   "language": "python",
   "name": "python3"
  },
  "language_info": {
   "codemirror_mode": {
    "name": "ipython",
    "version": 3
   },
   "file_extension": ".py",
   "mimetype": "text/x-python",
   "name": "python",
   "nbconvert_exporter": "python",
   "pygments_lexer": "ipython3",
   "version": "3.6.4"
  }
 },
 "nbformat": 4,
 "nbformat_minor": 2
}
