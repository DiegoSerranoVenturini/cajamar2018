{
 "cells": [
  {
   "cell_type": "code",
   "execution_count": 4,
   "metadata": {},
   "outputs": [],
   "source": [
    "#imports base\n",
    "import pandas as pd\n",
    "import numpy as np\n",
    "import matplotlib.pyplot as plt\n",
    "import time\n",
    "import sys\n",
    "import seaborn as sns\n",
    "import warnings\n",
    "import random\n",
    "\n",
    "#sklearn utils\n",
    "from sklearn import preprocessing\n",
    "from sklearn.model_selection import train_test_split\n",
    "from sklearn.metrics import mean_absolute_error\n",
    "\n",
    "#models\n",
    "from sklearn.cluster import SpectralClustering\n",
    "#from catboost import CatBoostRegressor\n",
    "from sklearn.linear_model import LinearRegression\n",
    "#from pyearth import Earth\n",
    "#from lightgbm import LGBMRegressor"
   ]
  },
  {
   "cell_type": "code",
   "execution_count": 9,
   "metadata": {},
   "outputs": [],
   "source": [
    "#configuracion\n",
    "sns.set(color_codes=True)\n",
    "sns.set_palette(sns.color_palette(\"PuBuGn_d\"))\n",
    "warnings.filterwarnings('ignore')\n",
    "sys.path.append('/home/ubuntu/fastai/')\n",
    "%matplotlib inline\n",
    "\n",
    "#pathdata\n",
    "PATH_DATA = '/home/ubuntu/fastai/data/'\n",
    "PATH      = '/home/ubuntu/fastai/cajamar2018/'"
   ]
  },
  {
   "cell_type": "code",
   "execution_count": 14,
   "metadata": {},
   "outputs": [],
   "source": [
    "import pickle\n",
    "df_mod = pickle.load(open('dataframe_processed.pkl','rb'))\n",
    "numerical_vars, categorical_vars, TARGET = pickle.load(open('vars.pkl','rb'))"
   ]
  },
  {
   "cell_type": "markdown",
   "metadata": {},
   "source": [
    "----\n",
    "----\n",
    "# Enfoque deep"
   ]
  },
  {
   "cell_type": "code",
   "execution_count": 10,
   "metadata": {},
   "outputs": [],
   "source": [
    "import torch\n",
    "import fastai\n",
    "\n",
    "from fastai.structured import *\n",
    "from fastai.column_data import *\n",
    "\n",
    "\n",
    "def exp_mae(y_pred, targ):\n",
    "    return np.average(np.abs( np.exp(y_pred) -  np.exp(targ)), axis=0)\n",
    "\n",
    "\n",
    "def exp_rmspe(y_pred, targ):\n",
    "    targ = np.exp(targ)\n",
    "    pct_var = (targ -  np.exp(y_pred))/targ\n",
    "    return math.sqrt((pct_var**2).mean())"
   ]
  },
  {
   "cell_type": "code",
   "execution_count": 15,
   "metadata": {},
   "outputs": [],
   "source": [
    "df_deep = df_mod.drop(['ID_Customer'], axis=1)"
   ]
  },
  {
   "cell_type": "code",
   "execution_count": 16,
   "metadata": {},
   "outputs": [],
   "source": [
    "from sklearn import preprocessing\n",
    "le = preprocessing.LabelEncoder()"
   ]
  },
  {
   "cell_type": "code",
   "execution_count": 17,
   "metadata": {},
   "outputs": [],
   "source": [
    "#NECESITARÍAMOS PODER VOLVER AL VALOR DE CADA CATEGORÍA\n",
    "df_deep[categorical_vars] = df_deep[categorical_vars].apply(lambda x: le.fit_transform(x))"
   ]
  },
  {
   "cell_type": "code",
   "execution_count": 18,
   "metadata": {},
   "outputs": [],
   "source": [
    "for v in categorical_vars: df_deep[v] = df_deep[v].astype('category').cat.as_ordered()\n",
    "for v in numerical_vars: df_deep[v] = df_deep[v].astype('float32')"
   ]
  },
  {
   "cell_type": "code",
   "execution_count": 19,
   "metadata": {},
   "outputs": [],
   "source": [
    "X_full, y_full, nas, mapper = proc_df(df_deep, TARGET, do_scale=True)"
   ]
  },
  {
   "cell_type": "code",
   "execution_count": 20,
   "metadata": {},
   "outputs": [],
   "source": [
    "max_y = np.max(y_full)\n",
    "y_range = (0, max_y*1.2)"
   ]
  },
  {
   "cell_type": "code",
   "execution_count": 21,
   "metadata": {},
   "outputs": [],
   "source": [
    "X_train, X_val, y_train, y_val   = train_test_split(X_full, y_full, test_size=0.10, random_state=42)\n",
    "#X_train, X_test, y_train, y_test = train_test_split(X_train, y_train, test_size=0.20, random_state=42)"
   ]
  },
  {
   "cell_type": "code",
   "execution_count": 22,
   "metadata": {},
   "outputs": [],
   "source": [
    "samp_size   = X_train.shape[0]\n",
    "train_ratio = 0.8\n",
    "train_size  = int(samp_size * train_ratio); train_size\n",
    "test_idx    = random.sample(range(0, samp_size), train_size)"
   ]
  },
  {
   "cell_type": "code",
   "execution_count": 23,
   "metadata": {},
   "outputs": [],
   "source": [
    "cat_sz = [(c, len(df_mod[c].cat.categories)+1) for c in categorical_vars]\n",
    "#cat_sz"
   ]
  },
  {
   "cell_type": "code",
   "execution_count": 24,
   "metadata": {},
   "outputs": [],
   "source": [
    "emb_szs = [(c, min(52, (c+1)//2)) for _,c in cat_sz]\n",
    "#emb_szs"
   ]
  },
  {
   "cell_type": "code",
   "execution_count": 25,
   "metadata": {},
   "outputs": [],
   "source": [
    "md = ColumnarModelData.from_data_frame(PATH, test_idx, X_train, y_train, cat_flds=categorical_vars, bs=128, test_df=X_val)"
   ]
  },
  {
   "cell_type": "code",
   "execution_count": 26,
   "metadata": {},
   "outputs": [],
   "source": [
    "m = md.get_learner(emb_szs, len(X_full.columns)-len(categorical_vars),\n",
    "                   0.5, 1, [800,800, 500], [0.1,0.25, 0.5], y_range=y_range)"
   ]
  },
  {
   "cell_type": "code",
   "execution_count": 28,
   "metadata": {},
   "outputs": [
    {
     "data": {
      "application/vnd.jupyter.widget-view+json": {
       "model_id": "47846b45e314471d95102539f2b0371b",
       "version_major": 2,
       "version_minor": 0
      },
      "text/html": [
       "<p>Failed to display Jupyter Widget of type <code>HBox</code>.</p>\n",
       "<p>\n",
       "  If you're reading this message in the Jupyter Notebook or JupyterLab Notebook, it may mean\n",
       "  that the widgets JavaScript is still loading. If this message persists, it\n",
       "  likely means that the widgets JavaScript library is either not installed or\n",
       "  not enabled. See the <a href=\"https://ipywidgets.readthedocs.io/en/stable/user_install.html\">Jupyter\n",
       "  Widgets Documentation</a> for setup instructions.\n",
       "</p>\n",
       "<p>\n",
       "  If you're reading this message in another frontend (for example, a static\n",
       "  rendering on GitHub or <a href=\"https://nbviewer.jupyter.org/\">NBViewer</a>),\n",
       "  it may mean that your frontend doesn't currently support widgets.\n",
       "</p>\n"
      ],
      "text/plain": [
       "HBox(children=(IntProgress(value=0, description='Epoch', max=10), HTML(value='')))"
      ]
     },
     "metadata": {},
     "output_type": "display_data"
    },
    {
     "name": "stdout",
     "output_type": "stream",
     "text": [
      "epoch      trn_loss   val_loss   exp_mae    exp_rmspe        \n",
      "    0      0.139262   0.125151   4691.178711 0.397744  \n",
      "    1      0.13356    0.132484   4939.038086 0.381497        \n",
      "    2      0.129477   0.124481   4676.44043 0.373269         \n",
      "    3      0.133168   0.125253   4652.318359 0.403623        \n",
      "    4      0.124718   0.127753   4712.945801 0.401238        \n",
      "    5      0.127347   0.124612   4720.345215 0.35897         \n",
      "    6      0.124035   0.119467   4605.179688 0.390087        \n",
      "    7      0.122093   0.124054   4697.671875 0.385388        \n",
      "    8      0.122865   0.123162   4650.050781 0.359611        \n",
      "    9      0.117781   0.121461   4669.320801 0.377977        \n",
      "\n"
     ]
    },
    {
     "data": {
      "text/plain": [
       "[0.12146059, array([4669.321], dtype=float32), 0.37797700059822026]"
      ]
     },
     "execution_count": 28,
     "metadata": {},
     "output_type": "execute_result"
    }
   ],
   "source": [
    "m.fit(1e-3, 10, metrics=[exp_mae, exp_rmspe])"
   ]
  },
  {
   "cell_type": "code",
   "execution_count": 29,
   "metadata": {},
   "outputs": [],
   "source": [
    "dl_preds = m.predict(is_test=True)"
   ]
  },
  {
   "cell_type": "code",
   "execution_count": 30,
   "metadata": {},
   "outputs": [
    {
     "name": "stdout",
     "output_type": "stream",
     "text": [
      "dl:  4660.47\n"
     ]
    },
    {
     "data": {
      "text/plain": [
       "<matplotlib.axes._subplots.AxesSubplot at 0x7eff902e0898>"
      ]
     },
     "execution_count": 30,
     "metadata": {},
     "output_type": "execute_result"
    },
    {
     "data": {
      "image/png": "[encoded data removed]",
      "text/plain": [
       "<matplotlib.figure.Figure at 0x7eff902f4e80>"
      ]
     },
     "metadata": {},
     "output_type": "display_data"
    }
   ],
   "source": [
    "print('dl: ', round(mean_absolute_error(np.exp(y_val), np.exp(dl_preds)), 3))\n",
    "sns.distplot(dl_preds)"
   ]
  },
  {
   "cell_type": "code",
   "execution_count": 38,
   "metadata": {},
   "outputs": [
    {
     "data": {
      "text/plain": [
       "<seaborn.axisgrid.JointGrid at 0x7eff8f6b8048>"
      ]
     },
     "execution_count": 38,
     "metadata": {},
     "output_type": "execute_result"
    },
    {
     "data": {
      "image/png": "[encoded data removed]",
      "text/plain": [
       "<matplotlib.figure.Figure at 0x7eff27a6bf98>"
      ]
     },
     "metadata": {},
     "output_type": "display_data"
    }
   ],
   "source": [
    "d2plot = pd.DataFrame(np.column_stack((np.exp(dl_preds), np.exp(y_val))))\n",
    "d2plot.columns=['pred', 'real']\n",
    "sns.jointplot(x='pred', y='real', data=d2plot)"
   ]
  },
  {
   "cell_type": "code",
   "execution_count": 61,
   "metadata": {},
   "outputs": [],
   "source": [
    "a = np.exp(dl_preds) \n",
    "b = np.exp(y_val).reshape([-1,1])\n",
    "c = (a - b)"
   ]
  },
  {
   "cell_type": "code",
   "execution_count": 68,
   "metadata": {},
   "outputs": [],
   "source": [
    "errores_altos = X_val[abs(c)>2e4]"
   ]
  },
  {
   "cell_type": "code",
   "execution_count": 74,
   "metadata": {},
   "outputs": [],
   "source": [
    "from sklearn.cluster import KMeans\n",
    "kmeans = KMeans(n_clusters=5,random_state=42)\n"
   ]
  },
  {
   "cell_type": "code",
   "execution_count": 78,
   "metadata": {
    "scrolled": true
   },
   "outputs": [],
   "source": [
    "clust_errores = kmeans.fit_predict(errores_altos)"
   ]
  },
  {
   "cell_type": "code",
   "execution_count": 86,
   "metadata": {},
   "outputs": [],
   "source": [
    "kmeans_errores = kmeans.fit(errores_altos)"
   ]
  },
  {
   "cell_type": "code",
   "execution_count": 98,
   "metadata": {},
   "outputs": [
    {
     "data": {
      "text/plain": [
       "<seaborn.axisgrid.PairGrid at 0x7eff32397160>"
      ]
     },
     "execution_count": 98,
     "metadata": {},
     "output_type": "execute_result"
    },
    {
     "data": {
      "image/png": "[encoded data removed]",
      "text/plain": [
       "<matplotlib.figure.Figure at 0x7eff3236feb8>"
      ]
     },
     "metadata": {},
     "output_type": "display_data"
    }
   ],
   "source": [
    "d2plot = pd.DataFrame(np.column_stack((a[abs(c)>2e4], b[abs(c)>2e4], clust_errores)))\n",
    "d2plot.columns=['pred', 'real', 'c']\n",
    "sns.pairplot(data=d2plot, hue='c')"
   ]
  },
  {
   "cell_type": "code",
   "execution_count": null,
   "metadata": {},
   "outputs": [],
   "source": []
  },
  {
   "cell_type": "code",
   "execution_count": null,
   "metadata": {},
   "outputs": [],
   "source": []
  },
  {
   "cell_type": "code",
   "execution_count": null,
   "metadata": {},
   "outputs": [],
   "source": []
  },
  {
   "cell_type": "markdown",
   "metadata": {},
   "source": [
    "----\n",
    "----\n",
    "Enfoque tradicional"
   ]
  },
  {
   "cell_type": "code",
   "execution_count": null,
   "metadata": {},
   "outputs": [],
   "source": [
    "df_dummies = pd.get_dummies(df_mod, columns=categorical_vars)"
   ]
  },
  {
   "cell_type": "code",
   "execution_count": null,
   "metadata": {},
   "outputs": [],
   "source": [
    "X_full = df_dummies.drop(['ID_Customer', TARGET], axis=1)\n",
    "y_full = df_dummies[TARGET]"
   ]
  },
  {
   "cell_type": "code",
   "execution_count": null,
   "metadata": {},
   "outputs": [],
   "source": [
    "X_train, X_test, y_train, y_test = train_test_split(X_full, y_full, test_size=0.30, random_state=42)\n",
    "X_test, X_val, y_test, y_val = train_test_split(X_test, y_test, test_size=0.33, random_state=42)"
   ]
  },
  {
   "cell_type": "code",
   "execution_count": null,
   "metadata": {},
   "outputs": [],
   "source": [
    "catboost = CatBoostRegressor(learning_rate=0.1, depth=10, loss_function='RMSE', l2_leaf_reg=20, od_pval = 0.01)\n",
    "catboost = catboost.fit(X_train, y_train, eval_set=(X_test, y_test))\n",
    "catboots_preds = catboost.predict(X_val)"
   ]
  },
  {
   "cell_type": "code",
   "execution_count": null,
   "metadata": {},
   "outputs": [],
   "source": [
    "lm = LinearRegression(normalize=True)\n",
    "lm = lm.fit(X_train, y_train)\n",
    "lm_preds = lm.predict(X_val)"
   ]
  },
  {
   "cell_type": "code",
   "execution_count": null,
   "metadata": {},
   "outputs": [],
   "source": [
    "#print('Catboost: ', round(mean_absolute_error(np.exp(y_val),np.exp(catboots_preds)), 3))\n",
    "print('lm: ', round(mean_absolute_error(np.exp(y_val), np.exp(lm_preds)), 3))\n",
    "#print('earth: ', round(mean_absolute_error(y_test, earth_preds), 3))"
   ]
  },
  {
   "cell_type": "code",
   "execution_count": null,
   "metadata": {},
   "outputs": [],
   "source": [
    "#diagrama de densidada del poder adquisitivo\n",
    "sns.distplot(df_mod[TARGET], color='#009999')"
   ]
  },
  {
   "cell_type": "code",
   "execution_count": null,
   "metadata": {},
   "outputs": [],
   "source": [
    "sns.distplot(lm_preds, color='#009999')"
   ]
  },
  {
   "cell_type": "code",
   "execution_count": null,
   "metadata": {},
   "outputs": [],
   "source": [
    "sns.distplot(catboots_preds)"
   ]
  },
  {
   "cell_type": "code",
   "execution_count": null,
   "metadata": {},
   "outputs": [],
   "source": []
  },
  {
   "cell_type": "code",
   "execution_count": null,
   "metadata": {},
   "outputs": [],
   "source": []
  },
  {
   "cell_type": "code",
   "execution_count": null,
   "metadata": {},
   "outputs": [],
   "source": []
  }
 ],
 "metadata": {
  "kernelspec": {
   "display_name": "Python 3",
   "language": "python",
   "name": "python3"
  },
  "language_info": {
   "codemirror_mode": {
    "name": "ipython",
    "version": 3
   },
   "file_extension": ".py",
   "mimetype": "text/x-python",
   "name": "python",
   "nbconvert_exporter": "python",
   "pygments_lexer": "ipython3",
   "version": "3.6.4"
  }
 },
 "nbformat": 4,
 "nbformat_minor": 2
}
