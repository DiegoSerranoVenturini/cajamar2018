{
 "cells": [
  {
   "cell_type": "code",
   "execution_count": 1,
   "metadata": {
    "collapsed": true
   },
   "outputs": [],
   "source": [
    "#imports base\n",
    "import pandas as pd\n",
    "import numpy as np\n",
    "import matplotlib.pyplot as plt\n",
    "import time\n",
    "import sys\n",
    "import seaborn as sns\n",
    "import warnings\n",
    "from src.utils import *\n",
    "\n",
    "#sklearn utils\n",
    "from sklearn import preprocessing\n",
    "from sklearn.model_selection import train_test_split\n",
    "from sklearn.metrics import mean_absolute_error\n",
    "\n",
    "#models\n",
    "from sklearn.cluster import SpectralClustering"
   ]
  },
  {
   "cell_type": "code",
   "execution_count": 2,
   "metadata": {},
   "outputs": [],
   "source": [
    "#configuracion\n",
    "sns.set(color_codes=True)\n",
    "sns.set_palette(sns.color_palette(\"PuBuGn_d\"))\n",
    "warnings.filterwarnings('ignore')\n",
    "sys.path.append('/home/ds/Dropbox/Para mi/EDU/UOC/cajamar2018/code/py/src/')\n",
    "%matplotlib inline\n",
    "\n",
    "#pathdata\n",
    "PATH_DATA = '~/Dropbox/Para mi/EDU/UOC/cajamar2018/data/'"
   ]
  },
  {
   "cell_type": "code",
   "execution_count": 3,
   "metadata": {},
   "outputs": [
    {
     "data": {
      "text/html": [
       "<div>\n",
       "<style>\n",
       "    .dataframe thead tr:only-child th {\n",
       "        text-align: right;\n",
       "    }\n",
       "\n",
       "    .dataframe thead th {\n",
       "        text-align: left;\n",
       "    }\n",
       "\n",
       "    .dataframe tbody tr th {\n",
       "        vertical-align: top;\n",
       "    }\n",
       "</style>\n",
       "<table border=\"1\" class=\"dataframe\">\n",
       "  <thead>\n",
       "    <tr style=\"text-align: right;\">\n",
       "      <th></th>\n",
       "      <th>ID_Customer</th>\n",
       "      <th>Imp_Cons_01</th>\n",
       "      <th>Imp_Cons_02</th>\n",
       "      <th>Imp_Cons_03</th>\n",
       "      <th>Imp_Cons_04</th>\n",
       "      <th>Imp_Cons_05</th>\n",
       "      <th>Imp_Cons_06</th>\n",
       "      <th>Imp_Cons_07</th>\n",
       "      <th>Imp_Cons_08</th>\n",
       "      <th>Imp_Cons_09</th>\n",
       "      <th>...</th>\n",
       "      <th>Num_Oper_17</th>\n",
       "      <th>Num_Oper_18</th>\n",
       "      <th>Num_Oper_19</th>\n",
       "      <th>Num_Oper_20</th>\n",
       "      <th>Socio_Demo_01</th>\n",
       "      <th>Socio_Demo_02</th>\n",
       "      <th>Socio_Demo_03</th>\n",
       "      <th>Socio_Demo_04</th>\n",
       "      <th>Socio_Demo_05</th>\n",
       "      <th>Poder_Adquisitivo</th>\n",
       "    </tr>\n",
       "  </thead>\n",
       "  <tbody>\n",
       "    <tr>\n",
       "      <th>0</th>\n",
       "      <td>TR000001</td>\n",
       "      <td>0.0</td>\n",
       "      <td>0.00</td>\n",
       "      <td>0.000000</td>\n",
       "      <td>63.067778</td>\n",
       "      <td>0.0</td>\n",
       "      <td>52.196667</td>\n",
       "      <td>0.0</td>\n",
       "      <td>0.000000</td>\n",
       "      <td>0.00</td>\n",
       "      <td>...</td>\n",
       "      <td>2</td>\n",
       "      <td>0</td>\n",
       "      <td>0</td>\n",
       "      <td>0</td>\n",
       "      <td>09991</td>\n",
       "      <td>1</td>\n",
       "      <td>70.44</td>\n",
       "      <td>3</td>\n",
       "      <td>20</td>\n",
       "      <td>19709.915000</td>\n",
       "    </tr>\n",
       "    <tr>\n",
       "      <th>1</th>\n",
       "      <td>TR000002</td>\n",
       "      <td>0.0</td>\n",
       "      <td>100.58</td>\n",
       "      <td>595.454545</td>\n",
       "      <td>10.899000</td>\n",
       "      <td>0.0</td>\n",
       "      <td>39.473636</td>\n",
       "      <td>0.0</td>\n",
       "      <td>62.268571</td>\n",
       "      <td>42.61</td>\n",
       "      <td>...</td>\n",
       "      <td>4</td>\n",
       "      <td>1</td>\n",
       "      <td>0</td>\n",
       "      <td>0</td>\n",
       "      <td>09991</td>\n",
       "      <td>2</td>\n",
       "      <td>71.87</td>\n",
       "      <td>3</td>\n",
       "      <td>29</td>\n",
       "      <td>37497.492167</td>\n",
       "    </tr>\n",
       "    <tr>\n",
       "      <th>2</th>\n",
       "      <td>TR000003</td>\n",
       "      <td>0.0</td>\n",
       "      <td>0.00</td>\n",
       "      <td>0.000000</td>\n",
       "      <td>0.000000</td>\n",
       "      <td>0.0</td>\n",
       "      <td>0.000000</td>\n",
       "      <td>0.0</td>\n",
       "      <td>0.000000</td>\n",
       "      <td>0.00</td>\n",
       "      <td>...</td>\n",
       "      <td>2</td>\n",
       "      <td>0</td>\n",
       "      <td>0</td>\n",
       "      <td>0</td>\n",
       "      <td>0X301</td>\n",
       "      <td>2</td>\n",
       "      <td>72.48</td>\n",
       "      <td>2</td>\n",
       "      <td>41</td>\n",
       "      <td>4802.970000</td>\n",
       "    </tr>\n",
       "    <tr>\n",
       "      <th>3</th>\n",
       "      <td>TR000004</td>\n",
       "      <td>0.0</td>\n",
       "      <td>0.00</td>\n",
       "      <td>0.000000</td>\n",
       "      <td>0.000000</td>\n",
       "      <td>0.0</td>\n",
       "      <td>0.000000</td>\n",
       "      <td>0.0</td>\n",
       "      <td>0.000000</td>\n",
       "      <td>0.00</td>\n",
       "      <td>...</td>\n",
       "      <td>0</td>\n",
       "      <td>0</td>\n",
       "      <td>0</td>\n",
       "      <td>0</td>\n",
       "      <td>0X301</td>\n",
       "      <td>2</td>\n",
       "      <td>86.60</td>\n",
       "      <td>3</td>\n",
       "      <td>38</td>\n",
       "      <td>8295.770000</td>\n",
       "    </tr>\n",
       "    <tr>\n",
       "      <th>4</th>\n",
       "      <td>TR000005</td>\n",
       "      <td>0.0</td>\n",
       "      <td>0.00</td>\n",
       "      <td>0.000000</td>\n",
       "      <td>0.000000</td>\n",
       "      <td>0.0</td>\n",
       "      <td>0.000000</td>\n",
       "      <td>0.0</td>\n",
       "      <td>0.000000</td>\n",
       "      <td>0.00</td>\n",
       "      <td>...</td>\n",
       "      <td>0</td>\n",
       "      <td>0</td>\n",
       "      <td>0</td>\n",
       "      <td>0</td>\n",
       "      <td>09991</td>\n",
       "      <td>2</td>\n",
       "      <td>92.48</td>\n",
       "      <td>4</td>\n",
       "      <td>35</td>\n",
       "      <td>24149.321667</td>\n",
       "    </tr>\n",
       "  </tbody>\n",
       "</table>\n",
       "<p>5 rows × 89 columns</p>\n",
       "</div>"
      ],
      "text/plain": [
       "  ID_Customer  Imp_Cons_01  Imp_Cons_02  Imp_Cons_03  Imp_Cons_04  \\\n",
       "0    TR000001          0.0         0.00     0.000000    63.067778   \n",
       "1    TR000002          0.0       100.58   595.454545    10.899000   \n",
       "2    TR000003          0.0         0.00     0.000000     0.000000   \n",
       "3    TR000004          0.0         0.00     0.000000     0.000000   \n",
       "4    TR000005          0.0         0.00     0.000000     0.000000   \n",
       "\n",
       "   Imp_Cons_05  Imp_Cons_06  Imp_Cons_07  Imp_Cons_08  Imp_Cons_09  \\\n",
       "0          0.0    52.196667          0.0     0.000000         0.00   \n",
       "1          0.0    39.473636          0.0    62.268571        42.61   \n",
       "2          0.0     0.000000          0.0     0.000000         0.00   \n",
       "3          0.0     0.000000          0.0     0.000000         0.00   \n",
       "4          0.0     0.000000          0.0     0.000000         0.00   \n",
       "\n",
       "         ...          Num_Oper_17  Num_Oper_18  Num_Oper_19  Num_Oper_20  \\\n",
       "0        ...                    2            0            0            0   \n",
       "1        ...                    4            1            0            0   \n",
       "2        ...                    2            0            0            0   \n",
       "3        ...                    0            0            0            0   \n",
       "4        ...                    0            0            0            0   \n",
       "\n",
       "   Socio_Demo_01  Socio_Demo_02  Socio_Demo_03  Socio_Demo_04  Socio_Demo_05  \\\n",
       "0          09991              1          70.44              3             20   \n",
       "1          09991              2          71.87              3             29   \n",
       "2          0X301              2          72.48              2             41   \n",
       "3          0X301              2          86.60              3             38   \n",
       "4          09991              2          92.48              4             35   \n",
       "\n",
       "   Poder_Adquisitivo  \n",
       "0       19709.915000  \n",
       "1       37497.492167  \n",
       "2        4802.970000  \n",
       "3        8295.770000  \n",
       "4       24149.321667  \n",
       "\n",
       "[5 rows x 89 columns]"
      ]
     },
     "execution_count": 3,
     "metadata": {},
     "output_type": "execute_result"
    }
   ],
   "source": [
    "#lectura dataset\n",
    "df = pd.read_table(PATH_DATA+'/TRAIN.txt', sep=',')\n",
    "df.head()"
   ]
  },
  {
   "cell_type": "code",
   "execution_count": 4,
   "metadata": {},
   "outputs": [
    {
     "data": {
      "text/plain": [
       "363834"
      ]
     },
     "execution_count": 4,
     "metadata": {},
     "output_type": "execute_result"
    }
   ],
   "source": [
    "#conteo de clientes diferentes en el conjunto de entrenamiento.\n",
    "nclientes_train = df.shape[0]\n",
    "nclientes_train"
   ]
  },
  {
   "cell_type": "code",
   "execution_count": 5,
   "metadata": {},
   "outputs": [],
   "source": [
    "#definición variables TARGET categóricas, binarias y numéricas:\n",
    "TARGET           = 'Poder_Adquisitivo'\n",
    "binary_vars      = ['Socio_Demo_01', 'Socio_Demo_02']\n",
    "categorical_vars = ['Ind_Prod_%(#)02d'% {\"#\":x} for x in range(1, 25) ] + binary_vars\n",
    "numerical_vars   = sorted(list(set(df.columns) - set([TARGET]) - set(categorical_vars) - set(binary_vars) - set(['ID_Customer'])))"
   ]
  },
  {
   "cell_type": "code",
   "execution_count": 6,
   "metadata": {
    "collapsed": true,
    "scrolled": true
   },
   "outputs": [],
   "source": [
    "#nos aseguramos que las numéricas están bien formateadas\n",
    "df[numerical_vars] = df[numerical_vars].apply(pd.to_numeric, errors='ignore')"
   ]
  },
  {
   "cell_type": "code",
   "execution_count": 7,
   "metadata": {},
   "outputs": [],
   "source": [
    "#formateo variables categoricas\n",
    "for col in categorical_vars: df[col] = df[col].astype('category').cat.as_ordered()"
   ]
  },
  {
   "cell_type": "markdown",
   "metadata": {},
   "source": [
    "## EDA "
   ]
  },
  {
   "cell_type": "markdown",
   "metadata": {},
   "source": [
    "Vamos a analizar las variables numéricas en primer lugar. \n",
    "\n",
    "Para ello vamos a generar un informe con los parámetros básicos de cada variable (conteos, medias, cuartiles, ...) y un histograma de cada variable.\n",
    "\n",
    "Esto nos permitirá identificar a primera vista la distribución que tiene cada variable y la posible presencia de *outliers*."
   ]
  },
  {
   "cell_type": "markdown",
   "metadata": {},
   "source": [
    "Analicemos la variable `TARGET`"
   ]
  },
  {
   "cell_type": "code",
   "execution_count": null,
   "metadata": {},
   "outputs": [],
   "source": [
    "#información estadística relevante del cliente\n",
    "df[TARGET].describe()"
   ]
  },
  {
   "cell_type": "markdown",
   "metadata": {},
   "source": [
    "El poder adquisitivo medio ronda los 16K. Sin embargo, existe una gran asimetría con clientes con un poder adquisitivo varios órdenes de magnitud mayor."
   ]
  },
  {
   "cell_type": "code",
   "execution_count": null,
   "metadata": {},
   "outputs": [],
   "source": [
    "#diagrama de densidad del poder adquisitivo\n",
    "sns.distplot(df[TARGET])"
   ]
  },
  {
   "cell_type": "code",
   "execution_count": null,
   "metadata": {},
   "outputs": [],
   "source": [
    "#diagrama de densidada del poder adquisitivo\n",
    "sns.distplot(np.log(df[TARGET]), color='#009999')"
   ]
  },
  {
   "cell_type": "markdown",
   "metadata": {},
   "source": [
    "Observamos que la transformación logarítmica beneficia enormemente la representabilidad de la distribución del `TARGET`."
   ]
  },
  {
   "cell_type": "markdown",
   "metadata": {},
   "source": [
    "A continuación extraemos la misma información para el resto de variables numéricas."
   ]
  },
  {
   "cell_type": "code",
   "execution_count": null,
   "metadata": {},
   "outputs": [],
   "source": [
    "#lista de descripciones estadísticas e histogramas de las variables numéricas\n",
    "start_time = time.time()\n",
    "\n",
    "for i, var in enumerate(sorted(numerical_vars)):\n",
    "    print(df[numerical_vars[i]].describe())\n",
    "    plt.hist(df[numerical_vars[i]], bins= 1000, color='#009999')\n",
    "    plt.xlabel('units')\n",
    "    plt.ylabel('count')\n",
    "    plt.title('distribución variable : {0}'.format(var))\n",
    "    plt.show()\n",
    "    print('\\n')\n",
    "    \n",
    "print(\"--- %s seconds ---\" % (time.time() - start_time))"
   ]
  },
  {
   "cell_type": "markdown",
   "metadata": {},
   "source": [
    "---\n",
    "A continuación vamos a realizar el análisis exploratorio de las variables categóricas.\n",
    "\n",
    "Éste consistirá en obtener los conteos del número de clientes en cada conjunto para cada categoría; así como obtener un *box-plot* de cada categoría frente al `TARGET` (con el $log$ aplicado)."
   ]
  },
  {
   "cell_type": "code",
   "execution_count": null,
   "metadata": {},
   "outputs": [],
   "source": [
    "#lista de descriptivos y boxplots de las variables numéricas\n",
    "start_time = time.time()\n",
    "\n",
    "for i, var in enumerate(sorted(categorical_vars)):\n",
    "    print(df[var].describe())\n",
    "    dataplot = pd.concat([np.log(df[TARGET]), df[var]], axis=1)\n",
    "    f, ax = plt.subplots(figsize=(8, 6))\n",
    "    fig = sns.boxplot(x=var, y=TARGET, data=dataplot)\n",
    "    fig.axis(ymin=0);\n",
    "    print('\\n')\n",
    "    \n",
    "print(\"--- %s seconds ---\" % (time.time() - start_time))"
   ]
  },
  {
   "cell_type": "markdown",
   "metadata": {},
   "source": [
    "Salvo la variable `Socio_Demo_01`, el resto de variables tiene un número de categorías bajo (3 la mayoría). Esto facilita su tratamiento, ya que consiguen agrupar un % alto de clientes cada categoría.\n",
    "\n",
    "La variable `Socio_Demo_01` que es una variable discreta pero con un número muy alto de valores (921) por lo que requiere un tratamiento especial."
   ]
  },
  {
   "cell_type": "code",
   "execution_count": 9,
   "metadata": {},
   "outputs": [],
   "source": [
    "df['Socio_Demo_01_mod'] = df['Socio_Demo_01'].replace([np.inf, -np.inf, np.nan], '-99')"
   ]
  },
  {
   "cell_type": "code",
   "execution_count": 10,
   "metadata": {},
   "outputs": [
    {
     "data": {
      "text/html": [
       "<div>\n",
       "<style>\n",
       "    .dataframe thead tr:only-child th {\n",
       "        text-align: right;\n",
       "    }\n",
       "\n",
       "    .dataframe thead th {\n",
       "        text-align: left;\n",
       "    }\n",
       "\n",
       "    .dataframe tbody tr th {\n",
       "        vertical-align: top;\n",
       "    }\n",
       "</style>\n",
       "<table border=\"1\" class=\"dataframe\">\n",
       "  <thead>\n",
       "    <tr>\n",
       "      <th></th>\n",
       "      <th colspan=\"5\" halign=\"left\">Poder_Adquisitivo</th>\n",
       "      <th>Socio_Demo_01_mod</th>\n",
       "    </tr>\n",
       "    <tr>\n",
       "      <th></th>\n",
       "      <th>min</th>\n",
       "      <th>max</th>\n",
       "      <th>mean</th>\n",
       "      <th>std</th>\n",
       "      <th>median</th>\n",
       "      <th>size</th>\n",
       "    </tr>\n",
       "    <tr>\n",
       "      <th>Socio_Demo_01_mod</th>\n",
       "      <th></th>\n",
       "      <th></th>\n",
       "      <th></th>\n",
       "      <th></th>\n",
       "      <th></th>\n",
       "      <th></th>\n",
       "    </tr>\n",
       "  </thead>\n",
       "  <tbody>\n",
       "    <tr>\n",
       "      <th>-99</th>\n",
       "      <td>3617.64</td>\n",
       "      <td>169886.010000</td>\n",
       "      <td>14052.403446</td>\n",
       "      <td>10238.847755</td>\n",
       "      <td>11843.670000</td>\n",
       "      <td>610</td>\n",
       "    </tr>\n",
       "    <tr>\n",
       "      <th>0</th>\n",
       "      <td>3603.96</td>\n",
       "      <td>331040.790000</td>\n",
       "      <td>14870.137722</td>\n",
       "      <td>11193.437905</td>\n",
       "      <td>12236.523833</td>\n",
       "      <td>15867</td>\n",
       "    </tr>\n",
       "    <tr>\n",
       "      <th>11</th>\n",
       "      <td>4944.62</td>\n",
       "      <td>102551.205750</td>\n",
       "      <td>26900.134800</td>\n",
       "      <td>12730.329611</td>\n",
       "      <td>25853.099667</td>\n",
       "      <td>677</td>\n",
       "    </tr>\n",
       "    <tr>\n",
       "      <th>12</th>\n",
       "      <td>3922.56</td>\n",
       "      <td>77114.612083</td>\n",
       "      <td>20617.374938</td>\n",
       "      <td>10863.191678</td>\n",
       "      <td>18894.510000</td>\n",
       "      <td>307</td>\n",
       "    </tr>\n",
       "    <tr>\n",
       "      <th>20</th>\n",
       "      <td>3783.49</td>\n",
       "      <td>113358.763000</td>\n",
       "      <td>18232.483429</td>\n",
       "      <td>9994.578845</td>\n",
       "      <td>16467.720000</td>\n",
       "      <td>723</td>\n",
       "    </tr>\n",
       "  </tbody>\n",
       "</table>\n",
       "</div>"
      ],
      "text/plain": [
       "                  Poder_Adquisitivo                               \\\n",
       "                                min            max          mean   \n",
       "Socio_Demo_01_mod                                                  \n",
       "-99                         3617.64  169886.010000  14052.403446   \n",
       " 0                          3603.96  331040.790000  14870.137722   \n",
       " 11                         4944.62  102551.205750  26900.134800   \n",
       " 12                         3922.56   77114.612083  20617.374938   \n",
       " 20                         3783.49  113358.763000  18232.483429   \n",
       "\n",
       "                                              Socio_Demo_01_mod  \n",
       "                            std        median              size  \n",
       "Socio_Demo_01_mod                                                \n",
       "-99                10238.847755  11843.670000               610  \n",
       " 0                 11193.437905  12236.523833             15867  \n",
       " 11                12730.329611  25853.099667               677  \n",
       " 12                10863.191678  18894.510000               307  \n",
       " 20                 9994.578845  16467.720000               723  "
      ]
     },
     "execution_count": 10,
     "metadata": {},
     "output_type": "execute_result"
    }
   ],
   "source": [
    "conditions = [\n",
    "    (df['Socio_Demo_01_mod'] == '0X301'),\n",
    "    #(type(df['Socio_Demo_01']) is not int) & (df['Socio_Demo_01'] != '0X301'),\n",
    "    (df['Socio_Demo_01_mod'] != '0X301')\n",
    "]\n",
    "choices = [\n",
    "    0, \n",
    "    df['Socio_Demo_01_mod']\n",
    "]\n",
    "df['Socio_Demo_01_mod'] = np.select(conditions, choices)\n",
    "df['Socio_Demo_01_mod'] = np.int32(pd.to_numeric(df['Socio_Demo_01_mod']))\n",
    "df['Socio_Demo_01_mod'] = df['Socio_Demo_01_mod'].astype('category').cat.as_ordered()\n",
    "\n",
    "Socio_Demo_01_df = df.groupby(['Socio_Demo_01_mod']).agg({TARGET: [min, max, 'mean', 'std', 'median'], 'Socio_Demo_01_mod': ['size']})\n",
    "Socio_Demo_01_df.head()"
   ]
  },
  {
   "cell_type": "code",
   "execution_count": 11,
   "metadata": {},
   "outputs": [],
   "source": [
    "spectral = SpectralClustering(n_clusters=50, \n",
    "                                      eigen_solver='arpack',\n",
    "                                      affinity=\"nearest_neighbors\")"
   ]
  },
  {
   "cell_type": "code",
   "execution_count": 12,
   "metadata": {},
   "outputs": [],
   "source": [
    "Socio_Demo_01_X = Socio_Demo_01_df.replace([np.inf, -np.inf,  np.nan], 0)\n"
   ]
  },
  {
   "cell_type": "code",
   "execution_count": 13,
   "metadata": {},
   "outputs": [],
   "source": [
    "scaler = preprocessing.StandardScaler()\n",
    "Socio_Demo_01_X = scaler.fit_transform(Socio_Demo_01_X)"
   ]
  },
  {
   "cell_type": "code",
   "execution_count": 14,
   "metadata": {},
   "outputs": [],
   "source": [
    "clusters = list(spectral.fit_predict(Socio_Demo_01_X))"
   ]
  },
  {
   "cell_type": "code",
   "execution_count": 15,
   "metadata": {},
   "outputs": [],
   "source": [
    "Socio_Demo_01_df['cluster'] = clusters"
   ]
  },
  {
   "cell_type": "code",
   "execution_count": 16,
   "metadata": {
    "collapsed": true
   },
   "outputs": [],
   "source": [
    "Socio_Demo_01_df = Socio_Demo_01_df[['cluster']]\n",
    "Socio_Demo_01_df = Socio_Demo_01_df.reset_index()"
   ]
  },
  {
   "cell_type": "code",
   "execution_count": 17,
   "metadata": {},
   "outputs": [],
   "source": [
    "df = pd.merge(df, Socio_Demo_01_df, on='Socio_Demo_01_mod', how='left')"
   ]
  },
  {
   "cell_type": "code",
   "execution_count": 18,
   "metadata": {},
   "outputs": [],
   "source": [
    "df['cluster_Social_Demo_01'] = df[('cluster', '')].astype('category').cat.as_ordered()\n",
    "df = df.drop([('cluster', ''), 'Socio_Demo_01_mod', 'Socio_Demo_01'], axis=1)"
   ]
  },
  {
   "cell_type": "code",
   "execution_count": 19,
   "metadata": {
    "collapsed": true
   },
   "outputs": [],
   "source": [
    "categorical_vars.append('cluster_Social_Demo_01')\n",
    "categorical_vars = list(set(categorical_vars) - set(['Socio_Demo_01']))"
   ]
  },
  {
   "cell_type": "code",
   "execution_count": 20,
   "metadata": {},
   "outputs": [
    {
     "data": {
      "image/png": "[encoded data removed]",
      "text/plain": [
       "<matplotlib.figure.Figure at 0x7fbb07c29c18>"
      ]
     },
     "metadata": {},
     "output_type": "display_data"
    }
   ],
   "source": [
    "dataplot = pd.concat([np.log(df[TARGET]), df['cluster_Social_Demo_01']], axis=1)\n",
    "f, ax = plt.subplots(figsize=(8, 6))\n",
    "fig = sns.countplot(x='cluster_Social_Demo_01', data=dataplot)\n"
   ]
  },
  {
   "cell_type": "markdown",
   "metadata": {},
   "source": [
    "----"
   ]
  },
  {
   "cell_type": "markdown",
   "metadata": {},
   "source": [
    "# Transformación de variables contínuas"
   ]
  },
  {
   "cell_type": "markdown",
   "metadata": {},
   "source": [
    "Por los *summary* queda claro que existen varios clientes en cada una de las variables que se salen de los cuartiles generales. Puesto que se trata de un tablón con información económica, estos clientes no son necesariamente \"outliers\", si no que puede tratarse de personas de renta alta/muy alta.\n",
    "\n",
    "Aquellos clientes que detectemos que exceden el tercer cuartil en un número \"alto\". Los vamos a marcar con una variable categórica para que el modelo sea capaz de detectar que son clientes \"especiales\".\n",
    "\n",
    "La variable `Socio_Demo_05` muestra un valor normal por lo que lo vamos a tratar. El resto de variables las vamos a \"normalizar\" aplicando el logaritmo."
   ]
  },
  {
   "cell_type": "code",
   "execution_count": 21,
   "metadata": {},
   "outputs": [],
   "source": [
    "idx_specials = sorted(list(set(\n",
    "    [item for sublist in \n",
    "     [\n",
    "         outliers_score(df[numerical_vars[i]])[0].tolist() \n",
    "         for i, var in enumerate(list( set(numerical_vars)-set(['Socio_Demo_05']) )) \n",
    "     ]  \n",
    "     for item in sublist])))"
   ]
  },
  {
   "cell_type": "code",
   "execution_count": 22,
   "metadata": {},
   "outputs": [
    {
     "data": {
      "text/plain": [
       "45945"
      ]
     },
     "execution_count": 22,
     "metadata": {},
     "output_type": "execute_result"
    }
   ],
   "source": [
    "#número de clientes \"especiales\"\n",
    "df.iloc[idx_specials].shape[0]"
   ]
  },
  {
   "cell_type": "code",
   "execution_count": 23,
   "metadata": {},
   "outputs": [],
   "source": [
    "#creamos la variable \"cliente especial\".\n",
    "df['cliente_especial'] = 'NO'\n",
    "df.loc[idx_specials, ['cliente_especial']]='SI'\n",
    "\n",
    "df['cliente_especial'] = df['cliente_especial'] .astype('category').cat.as_ordered()\n",
    "categorical_vars.append('cliente_especial')"
   ]
  },
  {
   "cell_type": "markdown",
   "metadata": {},
   "source": [
    "En los *summary* de arriba podemos observar que existe alguna variable cuyo mínimo es menor que 0. Estas variables no pueden transformarse por el $log$, por lo que las excluiremos.\n",
    "\n",
    "Adicionalmente excluiremos las variables `Num_Oper_`, ya que representan conteos de operaciones y la diferencia entre el máximo y mínimo escala no excede los 3 órdenes de magnitud .\n",
    "\n",
    "**Importante**: La variable `TARGET` también tiene una distribución poco simétrica (más \"*poissonica*\" que normal). Debido a que ciertos algoritmos y modelos estadísticos se van a beneficiar de la normalización de la variable le aplicaremos el logaritmo también. Esto implica que el modelo estimará el $log(poderAdquisitivo)$ y tendremos que invertir la transformación para la evaluación de la capacidad predictiva."
   ]
  },
  {
   "cell_type": "code",
   "execution_count": 24,
   "metadata": {},
   "outputs": [],
   "source": [
    "vars_2_exclude   = df[numerical_vars].loc[:, df[numerical_vars].apply(lambda x: x < 0).apply(any)].columns.tolist()\n",
    "numerical_vars.append(TARGET)\n",
    "vars_2_transform = set(numerical_vars) - set(['Socio_Demo_05']) -set(vars_2_exclude) - set([s for s in numerical_vars if \"Num_Oper_\" in s])\n",
    "df_mod = df\n",
    "\n",
    "for var in vars_2_transform: \n",
    "    df_mod[var] = df_mod[var].apply(lambda x: np.log(x + 1))"
   ]
  },
  {
   "cell_type": "code",
   "execution_count": null,
   "metadata": {},
   "outputs": [],
   "source": [
    "start_time = time.time()\n",
    "\n",
    "for i, var in enumerate(sorted(numerical_vars)):\n",
    "    print(df[numerical_vars[i]].describe())\n",
    "    plt.hist(df[numerical_vars[i]], bins= 50, color='#009999')\n",
    "    plt.xlabel('units')\n",
    "    plt.ylabel('count')\n",
    "    plt.title('distribución variable : {0}'.format(var))\n",
    "    plt.show()\n",
    "    print('\\n')\n",
    "    \n",
    "print(\"--- %s seconds ---\" % (time.time() - start_time))"
   ]
  },
  {
   "cell_type": "markdown",
   "metadata": {},
   "source": [
    "-------------"
   ]
  },
  {
   "cell_type": "markdown",
   "metadata": {},
   "source": [
    "# Limpieza de datos"
   ]
  },
  {
   "cell_type": "markdown",
   "metadata": {},
   "source": [
    "En primer lugar vamos a comprobar que no exista ningún nulo."
   ]
  },
  {
   "cell_type": "code",
   "execution_count": null,
   "metadata": {
    "collapsed": true
   },
   "outputs": [],
   "source": []
  },
  {
   "cell_type": "code",
   "execution_count": null,
   "metadata": {
    "collapsed": true
   },
   "outputs": [],
   "source": []
  },
  {
   "cell_type": "code",
   "execution_count": null,
   "metadata": {
    "collapsed": true
   },
   "outputs": [],
   "source": []
  },
  {
   "cell_type": "markdown",
   "metadata": {},
   "source": [
    "# Exportado de datos procesados"
   ]
  },
  {
   "cell_type": "markdown",
   "metadata": {},
   "source": [
    "A continuación exportamos los datos procesados para ser empleados en posteriores scripts."
   ]
  },
  {
   "cell_type": "code",
   "execution_count": 25,
   "metadata": {},
   "outputs": [],
   "source": [
    "import pickle"
   ]
  },
  {
   "cell_type": "code",
   "execution_count": 28,
   "metadata": {},
   "outputs": [],
   "source": [
    "pickle.dump(df_mod, open('dataframe_processed.pkl','wb'))\n",
    "pickle.dump((numerical_vars, categorical_vars, TARGET), open('vars.pkl','wb'))"
   ]
  }
 ],
 "metadata": {
  "kernelspec": {
   "display_name": "Python 3",
   "language": "python",
   "name": "python3"
  },
  "language_info": {
   "codemirror_mode": {
    "name": "ipython",
    "version": 3
   },
   "file_extension": ".py",
   "mimetype": "text/x-python",
   "name": "python",
   "nbconvert_exporter": "python",
   "pygments_lexer": "ipython3",
   "version": "3.6.2"
  }
 },
 "nbformat": 4,
 "nbformat_minor": 2
}
